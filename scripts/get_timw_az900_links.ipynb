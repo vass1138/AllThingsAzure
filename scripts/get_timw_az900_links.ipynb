{
 "metadata": {
  "language_info": {
   "codemirror_mode": {
    "name": "ipython",
    "version": 3
   },
   "file_extension": ".py",
   "mimetype": "text/x-python",
   "name": "python",
   "nbconvert_exporter": "python",
   "pygments_lexer": "ipython3",
   "version": "3.8.5-final"
  },
  "orig_nbformat": 2,
  "kernelspec": {
   "name": "Python 3.8.5 64-bit",
   "display_name": "Python 3.8.5 64-bit",
   "metadata": {
    "interpreter": {
     "hash": "6eacfadba4315884185b293cbc7ba5661f32902d752cd8bc3b89686261afb976"
    }
   }
  }
 },
 "nbformat": 4,
 "nbformat_minor": 2,
 "cells": [
  {
   "cell_type": "code",
   "execution_count": null,
   "metadata": {
    "tags": []
   },
   "outputs": [],
   "source": [
    "# Using the timw shortcode links, retrieve the orginal source links\n",
    "# and page titles.\n",
    "\n",
    "import xlrd         # Excel\n",
    "import re           # Regular Expressions\n",
    "import requests     # HTTP/S requests\n",
    "import bs4          # HTML parser\n",
    "\n",
    "wb = xlrd.open_workbook(\"../data/timw_AZ900_Fundamentals_200908_EV.xlsx\")\n",
    "ws = wb.sheet_by_name(\"Resources\")\n",
    "\n",
    "p = re.compile(\"^http\")\n",
    "\n",
    "icol = 4\n",
    "\n",
    "output = open(\"output.csv\",\"w\")\n",
    "\n",
    "for irow in range(0,ws.nrows):\n",
    "    url = ws.cell(irow,4).value\n",
    "\n",
    "    if p.match(url):\n",
    "        try:\n",
    "            result = requests.get(url)\n",
    "        except requests.exceptions.RequestException as e:\n",
    "            result = None\n",
    "\n",
    "    if result is None:\n",
    "        src = \"Not found\"\n",
    "        title = \"\"\n",
    "    else:\n",
    "        src = result.url\n",
    "\n",
    "        if \"html\" in result.headers['content-type']:\n",
    "            html = bs4.BeautifulSoup(result.text)\n",
    "            title = html.title.text\n",
    "        else:\n",
    "            title = \"\"\n",
    "\n",
    "    # format csv output string\n",
    "    s =  '\"' + '\",\"'.join([str(irow),url,src,title]) + '\"'\n",
    "\n",
    "    # cleanup unicode to avoid print() errors\n",
    "    s = s.encode('ascii','ignore')\n",
    "\n",
    "    print('{}'.format(s))\n",
    "    print('{}'.format(s), file=output)\n",
    "\n",
    "wb.release_resources()\n",
    "output.close()\n",
    "\n",
    "\n"
   ]
  }
 ]
}